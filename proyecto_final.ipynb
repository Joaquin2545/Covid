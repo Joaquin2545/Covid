{
 "cells": [
  {
   "cell_type": "code",
   "execution_count": 1,
   "metadata": {},
   "outputs": [],
   "source": [
    "import pandas as pd\n",
    "import matplotlib.pyplot as plt \n",
    "import seaborn as sns "
   ]
  },
  {
   "cell_type": "code",
   "execution_count": 4,
   "metadata": {},
   "outputs": [],
   "source": [
    "df = pd.read_csv('C:/Users/Usuario/Downloads/archive (2)/SalesFinal.csv')"
   ]
  },
  {
   "cell_type": "code",
   "execution_count": 5,
   "metadata": {},
   "outputs": [
    {
     "data": {
      "text/plain": [
       "InventoryId        object\n",
       "Store               int64\n",
       "Brand               int64\n",
       "Description        object\n",
       "Size               object\n",
       "SalesQuantity       int64\n",
       "SalesDollars      float64\n",
       "SalesPrice        float64\n",
       "SalesDate          object\n",
       "Volume              int64\n",
       "Classification      int64\n",
       "ExciseTax         float64\n",
       "VendorNo            int64\n",
       "VendorName         object\n",
       "dtype: object"
      ]
     },
     "execution_count": 5,
     "metadata": {},
     "output_type": "execute_result"
    }
   ],
   "source": [
    "df.dtypes"
   ]
  },
  {
   "cell_type": "code",
   "execution_count": 6,
   "metadata": {},
   "outputs": [],
   "source": [
    "df1 = pd.read_csv('C:/Users/Usuario/Downloads/archive (2)/PurchasesFinal.csv')"
   ]
  },
  {
   "cell_type": "code",
   "execution_count": 7,
   "metadata": {},
   "outputs": [
    {
     "data": {
      "text/plain": [
       "InventoryId        object\n",
       "Store               int64\n",
       "Brand               int64\n",
       "Description        object\n",
       "Size               object\n",
       "VendorNumber        int64\n",
       "VendorName         object\n",
       "PONumber            int64\n",
       "PODate             object\n",
       "ReceivingDate      object\n",
       "InvoiceDate        object\n",
       "PayDate            object\n",
       "PurchasePrice     float64\n",
       "Quantity            int64\n",
       "Dollars           float64\n",
       "Classification      int64\n",
       "dtype: object"
      ]
     },
     "execution_count": 7,
     "metadata": {},
     "output_type": "execute_result"
    }
   ],
   "source": [
    "df1.dtypes"
   ]
  },
  {
   "cell_type": "code",
   "execution_count": 9,
   "metadata": {},
   "outputs": [],
   "source": [
    "df2 = pd.read_csv('C:/Users/Usuario/Downloads/archive (2)/BegInvFinal.csv')"
   ]
  },
  {
   "cell_type": "code",
   "execution_count": 10,
   "metadata": {},
   "outputs": [
    {
     "data": {
      "text/plain": [
       "InventoryId     object\n",
       "Store            int64\n",
       "City            object\n",
       "Brand            int64\n",
       "Description     object\n",
       "Size            object\n",
       "onHand           int64\n",
       "Price          float64\n",
       "startDate       object\n",
       "dtype: object"
      ]
     },
     "execution_count": 10,
     "metadata": {},
     "output_type": "execute_result"
    }
   ],
   "source": [
    "df2.dtypes"
   ]
  },
  {
   "cell_type": "code",
   "execution_count": 11,
   "metadata": {},
   "outputs": [],
   "source": [
    "df3 = pd.read_csv('C:/Users/Usuario/Downloads/archive (2)/EndInvFinal.csv')"
   ]
  },
  {
   "cell_type": "code",
   "execution_count": 12,
   "metadata": {},
   "outputs": [
    {
     "data": {
      "text/plain": [
       "InventoryId     object\n",
       "Store            int64\n",
       "City            object\n",
       "Brand            int64\n",
       "Description     object\n",
       "Size            object\n",
       "onHand           int64\n",
       "Price          float64\n",
       "endDate         object\n",
       "dtype: object"
      ]
     },
     "execution_count": 12,
     "metadata": {},
     "output_type": "execute_result"
    }
   ],
   "source": [
    "df3.dtypes"
   ]
  },
  {
   "cell_type": "code",
   "execution_count": 13,
   "metadata": {},
   "outputs": [],
   "source": [
    "df4 = pd.read_csv('C:/Users/Usuario/Downloads/archive (2)/InvoicePurchases.csv')"
   ]
  },
  {
   "cell_type": "code",
   "execution_count": 14,
   "metadata": {},
   "outputs": [
    {
     "data": {
      "text/plain": [
       "VendorNumber      int64\n",
       "VendorName       object\n",
       "InvoiceDate      object\n",
       "PONumber          int64\n",
       "PODate           object\n",
       "PayDate          object\n",
       "Quantity          int64\n",
       "Dollars         float64\n",
       "Freight         float64\n",
       "Approval         object\n",
       "dtype: object"
      ]
     },
     "execution_count": 14,
     "metadata": {},
     "output_type": "execute_result"
    }
   ],
   "source": [
    "df4.dtypes"
   ]
  },
  {
   "cell_type": "code",
   "execution_count": 17,
   "metadata": {},
   "outputs": [],
   "source": [
    "df5 = pd.read_csv('C:/Users/Usuario/Downloads/archive (2)/2017PurchasePricesDec.csv')"
   ]
  },
  {
   "cell_type": "code",
   "execution_count": 18,
   "metadata": {},
   "outputs": [
    {
     "data": {
      "text/plain": [
       "Brand               int64\n",
       "Description        object\n",
       "Price             float64\n",
       "Size               object\n",
       "Volume             object\n",
       "Classification      int64\n",
       "PurchasePrice     float64\n",
       "VendorNumber        int64\n",
       "VendorName         object\n",
       "dtype: object"
      ]
     },
     "execution_count": 18,
     "metadata": {},
     "output_type": "execute_result"
    }
   ],
   "source": [
    "df5.dtypes"
   ]
  }
 ],
 "metadata": {
  "kernelspec": {
   "display_name": "Python 3",
   "language": "python",
   "name": "python3"
  },
  "language_info": {
   "codemirror_mode": {
    "name": "ipython",
    "version": 3
   },
   "file_extension": ".py",
   "mimetype": "text/x-python",
   "name": "python",
   "nbconvert_exporter": "python",
   "pygments_lexer": "ipython3",
   "version": "3.12.4"
  }
 },
 "nbformat": 4,
 "nbformat_minor": 2
}
